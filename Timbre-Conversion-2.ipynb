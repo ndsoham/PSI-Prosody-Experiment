{
 "cells": [
  {
   "cell_type": "markdown",
   "id": "a10e5cda",
   "metadata": {},
   "source": [
    "## FreeVC"
   ]
  },
  {
   "cell_type": "code",
   "execution_count": 1,
   "id": "3eeb83d4",
   "metadata": {},
   "outputs": [
    {
     "name": "stderr",
     "output_type": "stream",
     "text": [
      "/Library/Frameworks/Python.framework/Versions/3.12/lib/python3.12/site-packages/coqpit/coqpit.py:864: UserWarning: Type mismatch in FreeVCConfig\n",
      "Failed to deserialize field: test_sentences (list[str]) = [[\"It took me quite a long time to develop a voice, and now that I have it I'm not going to be silent.\"], ['Be a voice, not an echo.'], [\"I'm sorry Dave. I'm afraid I can't do that.\"], [\"This cake is great. It's so delicious and moist.\"], ['Prior to November 22, 1963.']]\n",
      "Replaced it with field's default value: []\n",
      "  self.deserialize(data)\n"
     ]
    }
   ],
   "source": [
    "import torch\n",
    "from TTS.api import TTS\n",
    "\n",
    "device = \"cuda\" if torch.cuda.is_available() else \"cpu\"\n",
    "FreeVC = TTS(\"voice_conversion_models/multilingual/vctk/freevc24\").to(device)"
   ]
  },
  {
   "cell_type": "code",
   "execution_count": 3,
   "id": "95850ad1",
   "metadata": {},
   "outputs": [],
   "source": [
    "# filepath variables\n",
    "m1_fp = \"good_outputs/M-1/AlanKay_2007-344.67-355.02-<o,f0,male>.wav\"\n",
    "m2_fp = \"good_outputs/M-2/AdamSavage_2008P-641.94-652.45-<o,f0,male>.wav\"\n",
    "f1_fp = \"good_outputs/F-1/BarbaraBlock_2010Z-1035.88-1046.06-<o,f0,female>.wav\"\n",
    "f2_fp = \"good_outputs/F-2/AimeeMullins_1998-186.79-197.43-<o,f0,female>.wav\"\n",
    "obama_ref = \"good_outputs/Obama/obama_output_fishspeech.wav\"\n",
    "trump_ref = \"good_outputs/Trump/trump_output_fishspeech.wav\""
   ]
  },
  {
   "cell_type": "markdown",
   "id": "679e0000",
   "metadata": {},
   "source": [
    "## Obama"
   ]
  },
  {
   "cell_type": "code",
   "execution_count": 4,
   "id": "35962e96",
   "metadata": {},
   "outputs": [
    {
     "data": {
      "text/plain": [
       "'good_outputs/Obama/obama_to_m1.wav'"
      ]
     },
     "execution_count": 4,
     "metadata": {},
     "output_type": "execute_result"
    }
   ],
   "source": [
    "FreeVC.voice_conversion_to_file(\n",
    "        source_wav=obama_ref,\n",
    "        target_wav=m1_fp,\n",
    "        file_path=\"good_outputs/Obama/obama_to_m1.wav\"\n",
    ")"
   ]
  },
  {
   "cell_type": "code",
   "execution_count": 5,
   "id": "a353d79d",
   "metadata": {},
   "outputs": [
    {
     "data": {
      "text/plain": [
       "'good_outputs/Obama/obama_to_m2.wav'"
      ]
     },
     "execution_count": 5,
     "metadata": {},
     "output_type": "execute_result"
    }
   ],
   "source": [
    "FreeVC.voice_conversion_to_file(\n",
    "    source_wav=obama_ref,\n",
    "    target_wav=m2_fp,\n",
    "    file_path=\"good_outputs/Obama/obama_to_m2.wav\"\n",
    ")"
   ]
  },
  {
   "cell_type": "code",
   "execution_count": 6,
   "id": "3b7f43ad",
   "metadata": {},
   "outputs": [
    {
     "data": {
      "text/plain": [
       "'good_outputs/Obama/obama_to_f1.wav'"
      ]
     },
     "execution_count": 6,
     "metadata": {},
     "output_type": "execute_result"
    }
   ],
   "source": [
    "FreeVC.voice_conversion_to_file(\n",
    "    source_wav=obama_ref,\n",
    "    target_wav=f1_fp,\n",
    "    file_path=\"good_outputs/Obama/obama_to_f1.wav\"\n",
    ")"
   ]
  },
  {
   "cell_type": "code",
   "execution_count": 7,
   "id": "86086e3e",
   "metadata": {},
   "outputs": [
    {
     "data": {
      "text/plain": [
       "'good_outputs/Obama/obama_to_f2.wav'"
      ]
     },
     "execution_count": 7,
     "metadata": {},
     "output_type": "execute_result"
    }
   ],
   "source": [
    "FreeVC.voice_conversion_to_file(\n",
    "    source_wav=obama_ref,\n",
    "    target_wav=f2_fp,\n",
    "    file_path=\"good_outputs/Obama/obama_to_f2.wav\"\n",
    ")"
   ]
  },
  {
   "cell_type": "markdown",
   "id": "a7fab1da",
   "metadata": {},
   "source": [
    "## Trump"
   ]
  },
  {
   "cell_type": "code",
   "execution_count": 8,
   "id": "72772fdc",
   "metadata": {},
   "outputs": [
    {
     "data": {
      "text/plain": [
       "'good_outputs/Trump/trump_to_m1.wav'"
      ]
     },
     "execution_count": 8,
     "metadata": {},
     "output_type": "execute_result"
    }
   ],
   "source": [
    "FreeVC.voice_conversion_to_file(\n",
    "    source_wav=trump_ref,\n",
    "    target_wav=m1_fp,\n",
    "    file_path=\"good_outputs/Trump/trump_to_m1.wav\"\n",
    ")"
   ]
  },
  {
   "cell_type": "code",
   "execution_count": null,
   "id": "c9547550",
   "metadata": {},
   "outputs": [],
   "source": []
  }
 ],
 "metadata": {
  "kernelspec": {
   "display_name": "Python 3",
   "language": "python",
   "name": "python3"
  },
  "language_info": {
   "codemirror_mode": {
    "name": "ipython",
    "version": 3
   },
   "file_extension": ".py",
   "mimetype": "text/x-python",
   "name": "python",
   "nbconvert_exporter": "python",
   "pygments_lexer": "ipython3",
   "version": "3.12.0"
  }
 },
 "nbformat": 4,
 "nbformat_minor": 5
}
