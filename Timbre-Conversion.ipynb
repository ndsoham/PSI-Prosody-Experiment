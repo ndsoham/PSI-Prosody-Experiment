{
 "cells": [
  {
   "cell_type": "markdown",
   "metadata": {},
   "source": [
    "## Tacotron2 (Baseline TTS)"
   ]
  },
  {
   "cell_type": "code",
   "execution_count": 10,
   "metadata": {},
   "outputs": [],
   "source": [
    "sample_text = '''\n",
    "Marijuana legalization presents an opportunity to promote public health, reduce crime, and generate tax revenue. \n",
    "Evidence suggests that regulation can ensure safer consumption, reduce the burden on the criminal justice system, and direct law enforcement resources toward more serious crimes. \n",
    "Additionally, the economic benefits of legal cannabis industries, including job creation and tax revenue, have been demonstrated in states where it is already legal. \n",
    "By focusing on regulation over prohibition, we can ensure a more effective and balanced approach to marijuana use and its societal impact.\n",
    "'''"
   ]
  },
  {
   "cell_type": "code",
   "execution_count": 8,
   "metadata": {},
   "outputs": [
    {
     "name": "stderr",
     "output_type": "stream",
     "text": [
      "100%|██████████| 896M/896M [15:06<00:00, 989kiB/s] \n",
      "100%|██████████| 113M/113M [00:03<00:00, 37.1MiB/s]\n",
      " 54%|█████▍    | 2.06M/3.80M [00:00<00:00, 16.0MiB/s]"
     ]
    },
    {
     "name": "stderr",
     "output_type": "stream",
     "text": [
      "100%|██████████| 3.80M/3.80M [00:11<00:00, 16.0MiB/s]"
     ]
    }
   ],
   "source": [
    "import torch\n",
    "from TTS.api import TTS\n",
    "\n",
    "device = \"cuda\" if torch.cuda.is_available() else \"cpu\"\n",
    "Tacotron2 = TTS(\"tts_models/en/ljspeech/tacotron2-DDC\").to(device)\n"
   ]
  },
  {
   "cell_type": "code",
   "execution_count": 12,
   "metadata": {},
   "outputs": [
    {
     "data": {
      "text/plain": [
       "'good_outputs/taco2_speaker_base.wav'"
      ]
     },
     "execution_count": 12,
     "metadata": {},
     "output_type": "execute_result"
    }
   ],
   "source": [
    "Tacotron2.tts_to_file(\n",
    "    sample_text,\n",
    "    file_path=\"good_outputs/taco2_speaker_base.wav\"\n",
    ")"
   ]
  },
  {
   "cell_type": "markdown",
   "metadata": {},
   "source": [
    "## FreeVC"
   ]
  },
  {
   "cell_type": "code",
   "execution_count": null,
   "metadata": {},
   "outputs": [
    {
     "name": "stderr",
     "output_type": "stream",
     "text": [
      "/Library/Frameworks/Python.framework/Versions/3.12/lib/python3.12/site-packages/coqpit/coqpit.py:864: UserWarning: Type mismatch in FreeVCConfig\n",
      "Failed to deserialize field: test_sentences (list[str]) = [[\"It took me quite a long time to develop a voice, and now that I have it I'm not going to be silent.\"], ['Be a voice, not an echo.'], [\"I'm sorry Dave. I'm afraid I can't do that.\"], [\"This cake is great. It's so delicious and moist.\"], ['Prior to November 22, 1963.']]\n",
      "Replaced it with field's default value: []\n",
      "  self.deserialize(data)\n"
     ]
    },
    {
     "data": {
      "text/plain": [
       "'good_outputs/Obama/obama_to_taco2.wav'"
      ]
     },
     "execution_count": 13,
     "metadata": {},
     "output_type": "execute_result"
    }
   ],
   "source": [
    "import torch\n",
    "from TTS.api import TTS\n",
    "\n",
    "device = \"cuda\" if torch.cuda.is_available() else \"cpu\"\n",
    "FreeVC = TTS(\"voice_conversion_models/multilingual/vctk/freevc24\").to(device)"
   ]
  },
  {
   "cell_type": "code",
   "execution_count": null,
   "metadata": {},
   "outputs": [],
   "source": [
    "# Obama\n",
    "FreeVC.voice_conversion_to_file(\n",
    "    source_wav=\"good_outputs/Obama/obama_output_fishspeech.wav\",\n",
    "    target_wav=\"good_outputs/taco2_speaker_base.wav\",\n",
    "    file_path=\"good_outputs/Obama/obama_to_taco2.wav\"\n",
    "    \n",
    ")"
   ]
  },
  {
   "cell_type": "code",
   "execution_count": 14,
   "metadata": {},
   "outputs": [
    {
     "data": {
      "text/plain": [
       "'good_outputs/Trump/trump_to_taco2.wav'"
      ]
     },
     "execution_count": 14,
     "metadata": {},
     "output_type": "execute_result"
    }
   ],
   "source": [
    "# Trump\n",
    "FreeVC.voice_conversion_to_file(\n",
    "    source_wav=\"good_outputs/Trump/trump_output_fishspeech.wav\",\n",
    "    target_wav=\"good_outputs/taco2_speaker_base.wav\",\n",
    "    file_path=\"good_outputs/Trump/trump_to_taco2.wav\"\n",
    ")"
   ]
  },
  {
   "cell_type": "markdown",
   "metadata": {},
   "source": [
    "## kNN-VC"
   ]
  },
  {
   "cell_type": "markdown",
   "metadata": {},
   "source": [
    "## OpenVoice"
   ]
  },
  {
   "cell_type": "code",
   "execution_count": 7,
   "metadata": {},
   "outputs": [
    {
     "data": {
      "text/plain": [
       "['tts_models/multilingual/multi-dataset/xtts_v2',\n",
       " 'tts_models/multilingual/multi-dataset/xtts_v1.1',\n",
       " 'tts_models/multilingual/multi-dataset/your_tts',\n",
       " 'tts_models/multilingual/multi-dataset/bark',\n",
       " 'tts_models/bg/cv/vits',\n",
       " 'tts_models/cs/cv/vits',\n",
       " 'tts_models/da/cv/vits',\n",
       " 'tts_models/et/cv/vits',\n",
       " 'tts_models/ga/cv/vits',\n",
       " 'tts_models/en/ek1/tacotron2',\n",
       " 'tts_models/en/ljspeech/tacotron2-DDC',\n",
       " 'tts_models/en/ljspeech/tacotron2-DDC_ph',\n",
       " 'tts_models/en/ljspeech/glow-tts',\n",
       " 'tts_models/en/ljspeech/speedy-speech',\n",
       " 'tts_models/en/ljspeech/tacotron2-DCA',\n",
       " 'tts_models/en/ljspeech/vits',\n",
       " 'tts_models/en/ljspeech/vits--neon',\n",
       " 'tts_models/en/ljspeech/fast_pitch',\n",
       " 'tts_models/en/ljspeech/overflow',\n",
       " 'tts_models/en/ljspeech/neural_hmm',\n",
       " 'tts_models/en/vctk/vits',\n",
       " 'tts_models/en/vctk/fast_pitch',\n",
       " 'tts_models/en/sam/tacotron-DDC',\n",
       " 'tts_models/en/blizzard2013/capacitron-t2-c50',\n",
       " 'tts_models/en/blizzard2013/capacitron-t2-c150_v2',\n",
       " 'tts_models/en/multi-dataset/tortoise-v2',\n",
       " 'tts_models/en/jenny/jenny',\n",
       " 'tts_models/es/mai/tacotron2-DDC',\n",
       " 'tts_models/es/css10/vits',\n",
       " 'tts_models/fr/mai/tacotron2-DDC',\n",
       " 'tts_models/fr/css10/vits',\n",
       " 'tts_models/uk/mai/glow-tts',\n",
       " 'tts_models/uk/mai/vits',\n",
       " 'tts_models/zh-CN/baker/tacotron2-DDC-GST',\n",
       " 'tts_models/nl/mai/tacotron2-DDC',\n",
       " 'tts_models/nl/css10/vits',\n",
       " 'tts_models/de/thorsten/tacotron2-DCA',\n",
       " 'tts_models/de/thorsten/vits',\n",
       " 'tts_models/de/thorsten/tacotron2-DDC',\n",
       " 'tts_models/de/css10/vits-neon',\n",
       " 'tts_models/ja/kokoro/tacotron2-DDC',\n",
       " 'tts_models/tr/common-voice/glow-tts',\n",
       " 'tts_models/it/mai_female/glow-tts',\n",
       " 'tts_models/it/mai_female/vits',\n",
       " 'tts_models/it/mai_male/glow-tts',\n",
       " 'tts_models/it/mai_male/vits',\n",
       " 'tts_models/ewe/openbible/vits',\n",
       " 'tts_models/hau/openbible/vits',\n",
       " 'tts_models/lin/openbible/vits',\n",
       " 'tts_models/tw_akuapem/openbible/vits',\n",
       " 'tts_models/tw_asante/openbible/vits',\n",
       " 'tts_models/yor/openbible/vits',\n",
       " 'tts_models/hu/css10/vits',\n",
       " 'tts_models/el/cv/vits',\n",
       " 'tts_models/fi/css10/vits',\n",
       " 'tts_models/hr/cv/vits',\n",
       " 'tts_models/lt/cv/vits',\n",
       " 'tts_models/lv/cv/vits',\n",
       " 'tts_models/mt/cv/vits',\n",
       " 'tts_models/pl/mai_female/vits',\n",
       " 'tts_models/pt/cv/vits',\n",
       " 'tts_models/ro/cv/vits',\n",
       " 'tts_models/sk/cv/vits',\n",
       " 'tts_models/sl/cv/vits',\n",
       " 'tts_models/sv/cv/vits',\n",
       " 'tts_models/ca/custom/vits',\n",
       " 'tts_models/fa/custom/glow-tts',\n",
       " 'tts_models/fa/custom/vits-female',\n",
       " 'tts_models/bn/custom/vits-male',\n",
       " 'tts_models/bn/custom/vits-female',\n",
       " 'tts_models/be/common-voice/glow-tts',\n",
       " 'vocoder_models/universal/libri-tts/wavegrad',\n",
       " 'vocoder_models/universal/libri-tts/fullband-melgan',\n",
       " 'vocoder_models/en/ek1/wavegrad',\n",
       " 'vocoder_models/en/librispeech100/wavlm-hifigan',\n",
       " 'vocoder_models/en/librispeech100/wavlm-hifigan_prematched',\n",
       " 'vocoder_models/en/ljspeech/multiband-melgan',\n",
       " 'vocoder_models/en/ljspeech/hifigan_v2',\n",
       " 'vocoder_models/en/ljspeech/univnet',\n",
       " 'vocoder_models/en/blizzard2013/hifigan_v2',\n",
       " 'vocoder_models/en/vctk/hifigan_v2',\n",
       " 'vocoder_models/en/sam/hifigan_v2',\n",
       " 'vocoder_models/nl/mai/parallel-wavegan',\n",
       " 'vocoder_models/de/thorsten/wavegrad',\n",
       " 'vocoder_models/de/thorsten/fullband-melgan',\n",
       " 'vocoder_models/de/thorsten/hifigan_v1',\n",
       " 'vocoder_models/ja/kokoro/hifigan_v1',\n",
       " 'vocoder_models/uk/mai/multiband-melgan',\n",
       " 'vocoder_models/tr/common-voice/hifigan',\n",
       " 'vocoder_models/be/common-voice/hifigan',\n",
       " 'voice_conversion_models/multilingual/vctk/freevc24',\n",
       " 'voice_conversion_models/multilingual/multi-dataset/knnvc',\n",
       " 'voice_conversion_models/multilingual/multi-dataset/openvoice_v1',\n",
       " 'voice_conversion_models/multilingual/multi-dataset/openvoice_v2']"
      ]
     },
     "execution_count": 7,
     "metadata": {},
     "output_type": "execute_result"
    }
   ],
   "source": [
    "FreeVC.list_models()"
   ]
  },
  {
   "cell_type": "code",
   "execution_count": null,
   "metadata": {},
   "outputs": [],
   "source": []
  }
 ],
 "metadata": {
  "kernelspec": {
   "display_name": "Python 3",
   "language": "python",
   "name": "python3"
  },
  "language_info": {
   "codemirror_mode": {
    "name": "ipython",
    "version": 3
   },
   "file_extension": ".py",
   "mimetype": "text/x-python",
   "name": "python",
   "nbconvert_exporter": "python",
   "pygments_lexer": "ipython3",
   "version": "3.12.0"
  }
 },
 "nbformat": 4,
 "nbformat_minor": 2
}
